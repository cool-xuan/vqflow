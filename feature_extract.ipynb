{
 "cells": [
  {
   "cell_type": "code",
   "execution_count": 1,
   "metadata": {},
   "outputs": [
    {
     "name": "stderr",
     "output_type": "stream",
     "text": [
      "/home/zhouyixuan/miniconda3/envs/msflow/lib/python3.8/site-packages/tqdm/auto.py:22: TqdmWarning: IProgress not found. Please update jupyter and ipywidgets. See https://ipywidgets.readthedocs.io/en/stable/user_install.html\n",
      "  from .autonotebook import tqdm as notebook_tqdm\n"
     ]
    }
   ],
   "source": [
    "import os\n",
    "import time\n",
    "import datetime\n",
    "import numpy as np\n",
    "\n",
    "import torch\n",
    "import torch.nn as nn\n",
    "import torch.nn.functional as F\n",
    "\n",
    "from datasets import MVTecDataset, VisADataset, MVTEC_CLASS_NAMES, VISA_CLASS_NAMES\n",
    "from models.extractors import build_extractor\n"
   ]
  },
  {
   "cell_type": "code",
   "execution_count": 2,
   "metadata": {},
   "outputs": [],
   "source": [
    "import default as c\n",
    "c.dataset = 'visa'\n",
    "if c.dataset == 'mvtec':\n",
    "    c.data_path = '/mnt/disk2/zhouyixuan/datasets/anomaly-detection/image/MVTec'\n",
    "    c.class_names = MVTEC_CLASS_NAMES\n",
    "    \n",
    "if c.dataset == 'visa':\n",
    "    c.data_path = '/mnt/disk2/zhouyixuan/datasets/anomaly-detection/image/VisA_pytorch/1cls/'\n",
    "    c.class_names = VISA_CLASS_NAMES"
   ]
  },
  {
   "cell_type": "code",
   "execution_count": 3,
   "metadata": {},
   "outputs": [],
   "source": [
    "def extract(c):\n",
    "    Dataset = MVTecDataset if c.dataset == 'mvtec' else VisADataset\n",
    "    train_dataset = Dataset(c, is_train=True)\n",
    "    test_dataset  = Dataset(c, is_train=False)\n",
    "\n",
    "    extractor, output_channels = build_extractor(c)\n",
    "    extractor = extractor.to(c.device).eval()\n",
    "\n",
    "    for dataset in [train_dataset, test_dataset]:\n",
    "        for idx, (image, y, mask, cls) in enumerate(dataset):\n",
    "            image = image.unsqueeze(0).to(c.device)\n",
    "            feature_list = extractor(image)\n",
    "            image_path = dataset.x[idx]\n",
    "            if c.dataset == 'mvtec':\n",
    "                feature_path = image_path.replace('png', 'npy').replace('MVTec', 'MVTec_features/{}/{}'.format(c.extractor, c.input_size[0]))\n",
    "            if c.dataset == 'visa':\n",
    "                feature_path = image_path.replace('JPG', 'npy').replace('1cls', '1cls_features/{}/{}'.format(c.extractor, c.input_size[0]))\n",
    "            feature_dir = os.path.dirname(feature_path)\n",
    "            if not os.path.exists(feature_dir):\n",
    "                os.makedirs(feature_dir)\n",
    "            feature_list = {idx: feature.squeeze(0).detach().cpu().numpy() for idx, feature in enumerate(feature_list)}\n",
    "            np.save(feature_path, feature_list)"
   ]
  },
  {
   "cell_type": "code",
   "execution_count": 4,
   "metadata": {},
   "outputs": [
    {
     "name": "stdout",
     "output_type": "stream",
     "text": [
      "bottle (256, 256)\n",
      "Channels of extracted features: [256, 512, 1024]\n",
      "bottle (512, 512)\n",
      "Channels of extracted features: [256, 512, 1024]\n",
      "cable (256, 256)\n",
      "Channels of extracted features: [256, 512, 1024]\n",
      "cable (512, 512)\n",
      "Channels of extracted features: [256, 512, 1024]\n",
      "capsule (256, 256)\n",
      "Channels of extracted features: [256, 512, 1024]\n",
      "capsule (512, 512)\n",
      "Channels of extracted features: [256, 512, 1024]\n",
      "carpet (256, 256)\n",
      "Channels of extracted features: [256, 512, 1024]\n",
      "carpet (512, 512)\n",
      "Channels of extracted features: [256, 512, 1024]\n",
      "grid (256, 256)\n",
      "Channels of extracted features: [256, 512, 1024]\n",
      "grid (512, 512)\n",
      "Channels of extracted features: [256, 512, 1024]\n",
      "hazelnut (256, 256)\n",
      "Channels of extracted features: [256, 512, 1024]\n",
      "hazelnut (512, 512)\n",
      "Channels of extracted features: [256, 512, 1024]\n",
      "leather (256, 256)\n",
      "Channels of extracted features: [256, 512, 1024]\n",
      "leather (512, 512)\n",
      "Channels of extracted features: [256, 512, 1024]\n",
      "metal_nut (256, 256)\n",
      "Channels of extracted features: [256, 512, 1024]\n",
      "metal_nut (512, 512)\n",
      "Channels of extracted features: [256, 512, 1024]\n",
      "pill (256, 256)\n",
      "Channels of extracted features: [256, 512, 1024]\n",
      "pill (512, 512)\n",
      "Channels of extracted features: [256, 512, 1024]\n",
      "screw (256, 256)\n",
      "Channels of extracted features: [256, 512, 1024]\n",
      "screw (512, 512)\n",
      "Channels of extracted features: [256, 512, 1024]\n",
      "tile (256, 256)\n",
      "Channels of extracted features: [256, 512, 1024]\n",
      "tile (512, 512)\n",
      "Channels of extracted features: [256, 512, 1024]\n",
      "toothbrush (256, 256)\n",
      "Channels of extracted features: [256, 512, 1024]\n",
      "toothbrush (512, 512)\n",
      "Channels of extracted features: [256, 512, 1024]\n",
      "transistor (256, 256)\n",
      "Channels of extracted features: [256, 512, 1024]\n",
      "transistor (512, 512)\n",
      "Channels of extracted features: [256, 512, 1024]\n",
      "wood (256, 256)\n",
      "Channels of extracted features: [256, 512, 1024]\n",
      "wood (512, 512)\n",
      "Channels of extracted features: [256, 512, 1024]\n",
      "zipper (256, 256)\n",
      "Channels of extracted features: [256, 512, 1024]\n",
      "zipper (512, 512)\n",
      "Channels of extracted features: [256, 512, 1024]\n"
     ]
    }
   ],
   "source": [
    "for class_name in c.class_names:\n",
    "    for input_size in [256, 512]:\n",
    "        c.class_name = class_name\n",
    "        c.input_size = (input_size, input_size)\n",
    "        print(c.class_name, c.input_size)\n",
    "        extract(c)"
   ]
  },
  {
   "cell_type": "code",
   "execution_count": 6,
   "metadata": {},
   "outputs": [],
   "source": [
    "# MVTec\n",
    "image_root = '/mnt/disk2/zhouyixuan/datasets/anomaly-detection/image/MVTec'\n",
    "feature_root = '/mnt/disk2/zhouyixuan/datasets/anomaly-detection/image/MVTec_features/wide_resnet50_2/512'\n",
    "\n",
    "for sub_dir in os.listdir(image_root):\n",
    "    image_dir = os.path.join(image_root, sub_dir, 'ground_truth')\n",
    "    if os.path.isdir(image_dir):\n",
    "        feature_dir = os.path.join(feature_root, sub_dir, 'ground_truth')\n",
    "        if not os.path.exists(feature_dir):\n",
    "            os.symlink(image_dir, feature_dir)"
   ]
  }
 ],
 "metadata": {
  "kernelspec": {
   "display_name": "msflow",
   "language": "python",
   "name": "python3"
  },
  "language_info": {
   "codemirror_mode": {
    "name": "ipython",
    "version": 3
   },
   "file_extension": ".py",
   "mimetype": "text/x-python",
   "name": "python",
   "nbconvert_exporter": "python",
   "pygments_lexer": "ipython3",
   "version": "3.8.13"
  }
 },
 "nbformat": 4,
 "nbformat_minor": 2
}
